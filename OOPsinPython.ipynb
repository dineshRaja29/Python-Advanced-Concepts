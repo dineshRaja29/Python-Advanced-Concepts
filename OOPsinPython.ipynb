{
  "nbformat": 4,
  "nbformat_minor": 0,
  "metadata": {
    "colab": {
      "name": "OOPsinPython.ipynb",
      "provenance": [],
      "authorship_tag": "ABX9TyPRyvY2ie7+EisDjPvh1XoC",
      "include_colab_link": true
    },
    "kernelspec": {
      "name": "python3",
      "display_name": "Python 3"
    },
    "language_info": {
      "name": "python"
    }
  },
  "cells": [
    {
      "cell_type": "markdown",
      "metadata": {
        "id": "view-in-github",
        "colab_type": "text"
      },
      "source": [
        "<a href=\"https://colab.research.google.com/github/dineshRaja29/Python-Advanced-Concepts/blob/main/OOPsinPython.ipynb\" target=\"_parent\"><img src=\"https://colab.research.google.com/assets/colab-badge.svg\" alt=\"Open In Colab\"/></a>"
      ]
    },
    {
      "cell_type": "code",
      "metadata": {
        "id": "wxe14ll39YOt"
      },
      "source": [
        "class Employee:\n",
        "  pass"
      ],
      "execution_count": null,
      "outputs": []
    },
    {
      "cell_type": "code",
      "metadata": {
        "colab": {
          "base_uri": "https://localhost:8080/"
        },
        "id": "-qgtSjIm_Vsp",
        "outputId": "6ee4b710-af31-48a0-8977-e35f1323f528"
      },
      "source": [
        "emp1 = Employee()\n",
        "emp2 = Employee()\n",
        "print(emp1)\n",
        "print(emp2)"
      ],
      "execution_count": null,
      "outputs": [
        {
          "output_type": "stream",
          "text": [
            "<__main__.Employee object at 0x7fdbc19b3ed0>\n",
            "<__main__.Employee object at 0x7fdbc19b3e90>\n"
          ],
          "name": "stdout"
        }
      ]
    },
    {
      "cell_type": "code",
      "metadata": {
        "id": "r_dzGX0Q_mB6"
      },
      "source": [
        "emp1.name = 'Dinesh'\n",
        "emp1.email = 'dinesh@gmail.com'\n",
        "emp2.name = 'buswala'\n",
        "emp2.email = 'buswala@gmail.com'"
      ],
      "execution_count": null,
      "outputs": []
    },
    {
      "cell_type": "code",
      "metadata": {
        "colab": {
          "base_uri": "https://localhost:8080/"
        },
        "id": "hdhOb1YX_wVF",
        "outputId": "47dca03e-ea80-401e-9f61-03c9a2d7d365"
      },
      "source": [
        "print(emp1.name)\n",
        "print(emp2.name)"
      ],
      "execution_count": null,
      "outputs": [
        {
          "output_type": "stream",
          "text": [
            "Dinesh\n",
            "buswala\n"
          ],
          "name": "stdout"
        }
      ]
    },
    {
      "cell_type": "code",
      "metadata": {
        "id": "D7lAzGBL_3Mx"
      },
      "source": [
        " # Drawback of print(emp1.name) above approach is that the variables are not presentin the class "
      ],
      "execution_count": null,
      "outputs": []
    },
    {
      "cell_type": "code",
      "metadata": {
        "id": "e4DA-OVtFRtg"
      },
      "source": [
        "class Employee:\n",
        "  def __init__(self, name, email):\n",
        "    self.name = name\n",
        "    self.email = email"
      ],
      "execution_count": null,
      "outputs": []
    },
    {
      "cell_type": "code",
      "metadata": {
        "id": "ZYA_ryMGFdBB"
      },
      "source": [
        "emp1 = Employee('dinesh', 'dinesh@gmail.com')\n",
        "emp2 = Employee('buswala', 'buswala@gmail.com')"
      ],
      "execution_count": null,
      "outputs": []
    },
    {
      "cell_type": "code",
      "metadata": {
        "id": "WhHIIxaUIIYW"
      },
      "source": [
        ""
      ],
      "execution_count": null,
      "outputs": []
    },
    {
      "cell_type": "code",
      "metadata": {
        "id": "_wk9hAlOIRbW"
      },
      "source": [
        "# Every method of the class require an argument called 'this' which will\n",
        "# refering to current class object\n",
        "# skipping this in the function will lead to the error runtime"
      ],
      "execution_count": null,
      "outputs": []
    },
    {
      "cell_type": "code",
      "metadata": {
        "id": "fHIFScdlJwLd"
      },
      "source": [
        "class Employee:\n",
        "  def __init__(self, name):\n",
        "    self.name = name\n",
        "  \n",
        "  def printName(self):\n",
        "    print('Name is ', self.name)"
      ],
      "execution_count": null,
      "outputs": []
    },
    {
      "cell_type": "code",
      "metadata": {
        "id": "CHeArfZzJ_Eq"
      },
      "source": [
        "emp1 = Employee('dinesh')"
      ],
      "execution_count": null,
      "outputs": []
    },
    {
      "cell_type": "code",
      "metadata": {
        "id": "QlHyZuU1KEHP"
      },
      "source": [
        "# calling different ways "
      ],
      "execution_count": null,
      "outputs": []
    },
    {
      "cell_type": "code",
      "metadata": {
        "colab": {
          "base_uri": "https://localhost:8080/"
        },
        "id": "BxaGMUuzKG-m",
        "outputId": "44e57f83-f3c2-4d50-cfc5-e04ba4c5bffe"
      },
      "source": [
        "Employee.printName(emp1)"
      ],
      "execution_count": null,
      "outputs": [
        {
          "output_type": "stream",
          "text": [
            "Name is  dinesh\n"
          ],
          "name": "stdout"
        }
      ]
    },
    {
      "cell_type": "code",
      "metadata": {
        "colab": {
          "base_uri": "https://localhost:8080/"
        },
        "id": "1cafWUIDKLXS",
        "outputId": "efe9d101-55e3-4ea4-d834-d315c54f5852"
      },
      "source": [
        "emp1.printName()"
      ],
      "execution_count": null,
      "outputs": [
        {
          "output_type": "stream",
          "text": [
            "Name is  dinesh\n"
          ],
          "name": "stdout"
        }
      ]
    },
    {
      "cell_type": "code",
      "metadata": {
        "id": "gyFLWp4_KCfL"
      },
      "source": [
        "# both are same but different ways of calling"
      ],
      "execution_count": null,
      "outputs": []
    },
    {
      "cell_type": "code",
      "metadata": {
        "id": "ntbIXTVwSqb4"
      },
      "source": [
        "#CLASS VARIABLES (DIFFERENT FROM INSTANCE VARIABLE)"
      ],
      "execution_count": null,
      "outputs": []
    },
    {
      "cell_type": "code",
      "metadata": {
        "id": "pWofo-afSu1x"
      },
      "source": [
        "class Employee:\n",
        "  increment = 1.4\n",
        "  def __init__(self, name):\n",
        "    self.name = name\n",
        "  def printName(self):\n",
        "    print('The name is ', self.name)\n",
        "    # to acess the class varaible\n",
        "    print('Class variable is ', self.increment)\n",
        "    # or \n",
        "    print('Class variable is ', Employee.increment)\n",
        "  "
      ],
      "execution_count": null,
      "outputs": []
    },
    {
      "cell_type": "code",
      "metadata": {
        "colab": {
          "base_uri": "https://localhost:8080/"
        },
        "id": "RGo47CYkUWYd",
        "outputId": "3cc2fb1e-43e6-44e7-cd48-672a108b7ad3"
      },
      "source": [
        "emp1 = Employee('dinesh')\n",
        "print(emp1.printName())"
      ],
      "execution_count": null,
      "outputs": [
        {
          "output_type": "stream",
          "text": [
            "The name is  dinesh\n",
            "Class variable is  1.4\n",
            "Class variable is  1.4\n",
            "None\n"
          ],
          "name": "stdout"
        }
      ]
    },
    {
      "cell_type": "code",
      "metadata": {
        "colab": {
          "base_uri": "https://localhost:8080/"
        },
        "id": "UJD9lOGCVqXp",
        "outputId": "e0a8bcab-cdac-4735-8291-7cf68558849d"
      },
      "source": [
        "emp2 = Employee('buswala')\n",
        "print(emp1.increment)"
      ],
      "execution_count": null,
      "outputs": [
        {
          "output_type": "stream",
          "text": [
            "1.4\n"
          ],
          "name": "stdout"
        }
      ]
    },
    {
      "cell_type": "code",
      "metadata": {
        "colab": {
          "base_uri": "https://localhost:8080/"
        },
        "id": "5ewPsQxeUfMW",
        "outputId": "7eac34e5-6aae-4d60-ac11-fb44a2e1c9c8"
      },
      "source": [
        "Employee.increment"
      ],
      "execution_count": null,
      "outputs": [
        {
          "output_type": "execute_result",
          "data": {
            "text/plain": [
              "1.4"
            ]
          },
          "metadata": {
            "tags": []
          },
          "execution_count": 27
        }
      ]
    },
    {
      "cell_type": "code",
      "metadata": {
        "colab": {
          "base_uri": "https://localhost:8080/"
        },
        "id": "CEosq_o0Ui1M",
        "outputId": "20279945-017a-4062-cebf-ebe7546050bf"
      },
      "source": [
        "emp1.__dict__"
      ],
      "execution_count": null,
      "outputs": [
        {
          "output_type": "execute_result",
          "data": {
            "text/plain": [
              "{'name': 'buswala'}"
            ]
          },
          "metadata": {
            "tags": []
          },
          "execution_count": 28
        }
      ]
    },
    {
      "cell_type": "code",
      "metadata": {
        "colab": {
          "base_uri": "https://localhost:8080/"
        },
        "id": "zajK2dmxUnfM",
        "outputId": "5b94f600-8f4a-4174-8099-430cac478991"
      },
      "source": [
        "Employee.__dict__"
      ],
      "execution_count": null,
      "outputs": [
        {
          "output_type": "execute_result",
          "data": {
            "text/plain": [
              "mappingproxy({'__dict__': <attribute '__dict__' of 'Employee' objects>,\n",
              "              '__doc__': None,\n",
              "              '__init__': <function __main__.Employee.__init__>,\n",
              "              '__module__': '__main__',\n",
              "              '__weakref__': <attribute '__weakref__' of 'Employee' objects>,\n",
              "              'increment': 1.4,\n",
              "              'printName': <function __main__.Employee.printName>})"
            ]
          },
          "metadata": {
            "tags": []
          },
          "execution_count": 29
        }
      ]
    },
    {
      "cell_type": "code",
      "metadata": {
        "id": "R7twbMv5U89M"
      },
      "source": [
        "#setting the class variables\n",
        "#locally \n",
        "# cannot change the value of previously created object\n",
        "emp1.increment = 12.03"
      ],
      "execution_count": null,
      "outputs": []
    },
    {
      "cell_type": "code",
      "metadata": {
        "colab": {
          "base_uri": "https://localhost:8080/"
        },
        "id": "eOsE8FJjVHN4",
        "outputId": "a3a33b2c-bdb4-4774-e2ca-b42db31f7778"
      },
      "source": [
        "print(emp1.increment)\n",
        "print(emp2.increment)\n",
        "print(Employee.increment)"
      ],
      "execution_count": null,
      "outputs": [
        {
          "output_type": "stream",
          "text": [
            "12.03\n",
            "1.4\n",
            "1.4\n"
          ],
          "name": "stdout"
        }
      ]
    },
    {
      "cell_type": "code",
      "metadata": {
        "id": "7KFGWLs8VLBt"
      },
      "source": [
        "# change value globally across all the instances "
      ],
      "execution_count": null,
      "outputs": []
    },
    {
      "cell_type": "code",
      "metadata": {
        "id": "90yVIIWqWHhq"
      },
      "source": [
        "Employee.increment = 14.02"
      ],
      "execution_count": null,
      "outputs": []
    },
    {
      "cell_type": "code",
      "metadata": {
        "colab": {
          "base_uri": "https://localhost:8080/"
        },
        "id": "_hfEUse3WLv9",
        "outputId": "3bf7d9a5-09e4-4dff-937f-f63d2e630903"
      },
      "source": [
        "print(emp1.increment)\n",
        "print(emp2.increment)\n",
        "print(Employee.increment)"
      ],
      "execution_count": null,
      "outputs": [
        {
          "output_type": "stream",
          "text": [
            "12.03\n",
            "14.02\n",
            "14.02\n"
          ],
          "name": "stdout"
        }
      ]
    },
    {
      "cell_type": "code",
      "metadata": {
        "id": "IIuwlguMXoym"
      },
      "source": [
        "# Use case of class variable without the self to make it sharable across the object"
      ],
      "execution_count": null,
      "outputs": []
    },
    {
      "cell_type": "code",
      "metadata": {
        "id": "k6b7wpZsXv1P"
      },
      "source": [
        "class Employee:\n",
        "  increment = 1.4\n",
        "  number_of_employee = 0\n",
        "  def __init__(self, name):\n",
        "    self.name = name\n",
        "    Employee.number_of_employee = Employee.number_of_employee + 1\n",
        "  def printName(self):\n",
        "    print('The name is ', self.name)\n",
        "    # to acess the class varaible\n",
        "    print('Class variable is ', self.increment)\n",
        "    # or \n",
        "    print('Class variable is ', Employee.increment)"
      ],
      "execution_count": null,
      "outputs": []
    },
    {
      "cell_type": "code",
      "metadata": {
        "colab": {
          "base_uri": "https://localhost:8080/"
        },
        "id": "CJeCpSLXYJ0c",
        "outputId": "1286a62b-2ce6-485b-ffa5-eba38950dcc8"
      },
      "source": [
        "print('Employee ', Employee.number_of_employee)\n",
        "emp1 = Employee('dinesh')\n",
        "emp2 = Employee('buswala')\n",
        "print('Employee ', Employee.number_of_employee)"
      ],
      "execution_count": null,
      "outputs": [
        {
          "output_type": "stream",
          "text": [
            "Employee  0\n",
            "Employee  2\n"
          ],
          "name": "stdout"
        }
      ]
    },
    {
      "cell_type": "code",
      "metadata": {
        "id": "OnGCCboYYpjf"
      },
      "source": [
        "# class Methods and static methods"
      ],
      "execution_count": null,
      "outputs": []
    },
    {
      "cell_type": "code",
      "metadata": {
        "id": "4oIxr0i-Y_yX"
      },
      "source": [
        "# In this Python Object-Oriented Tutorial, we will be learning about \n",
        "# classmethods and staticmethods. Class methods are methods that \n",
        "# automatically take the class as the first argument. Class methods \n",
        "# can also be used as alternative constructors. Static methods do not \n",
        "# take the instance or the class as the first argument. They behave \n",
        "# just like normal functions, yet they should have some logical \n",
        "# connection to our class. We will look at some examples of both of \n",
        "# these in order to understand both in depth"
      ],
      "execution_count": null,
      "outputs": []
    },
    {
      "cell_type": "code",
      "metadata": {
        "id": "DBmLWDlJ8Rs9"
      },
      "source": [
        "class Employee:\n",
        "  \n",
        "  number_of_emp = 0\n",
        "  incremented = 1.2\n",
        "  \n",
        "  def __init__(self, name):\n",
        "    self.name = name\n",
        "  \n",
        "  def printName(self):\n",
        "    print('The name is ', self.name)\n",
        "\n",
        "  @classmethod\n",
        "  def setempnumber(cls, value):\n",
        "    cls.number_of_emp = value  "
      ],
      "execution_count": null,
      "outputs": []
    },
    {
      "cell_type": "code",
      "metadata": {
        "colab": {
          "base_uri": "https://localhost:8080/"
        },
        "id": "eAwgQ7RS80NM",
        "outputId": "a057170b-cf17-4d31-9101-bb3ab3c198b1"
      },
      "source": [
        "emp1 = Employee('dinesh')\n",
        "print(emp1.number_of_emp)"
      ],
      "execution_count": null,
      "outputs": [
        {
          "output_type": "stream",
          "text": [
            "0\n"
          ],
          "name": "stdout"
        }
      ]
    },
    {
      "cell_type": "code",
      "metadata": {
        "id": "hUAbyzFhqqQF"
      },
      "source": [
        "Employee.setempnumber(25)"
      ],
      "execution_count": null,
      "outputs": []
    },
    {
      "cell_type": "code",
      "metadata": {
        "colab": {
          "base_uri": "https://localhost:8080/"
        },
        "id": "1HEh9sEFqvRQ",
        "outputId": "579a856c-215c-4f83-e391-4de1ec768b1a"
      },
      "source": [
        "print(emp1.number_of_emp)"
      ],
      "execution_count": null,
      "outputs": [
        {
          "output_type": "stream",
          "text": [
            "25\n"
          ],
          "name": "stdout"
        }
      ]
    },
    {
      "cell_type": "code",
      "metadata": {
        "id": "YPEefpPvqxwy"
      },
      "source": [
        "emp2 = Employee('buswala')"
      ],
      "execution_count": null,
      "outputs": []
    },
    {
      "cell_type": "code",
      "metadata": {
        "colab": {
          "base_uri": "https://localhost:8080/"
        },
        "id": "AfCF7YoNq1yZ",
        "outputId": "be5494b8-3d05-40ac-fc85-a97d4f7ed6b6"
      },
      "source": [
        "print(emp2.number_of_emp)"
      ],
      "execution_count": null,
      "outputs": [
        {
          "output_type": "stream",
          "text": [
            "25\n"
          ],
          "name": "stdout"
        }
      ]
    },
    {
      "cell_type": "code",
      "metadata": {
        "id": "hnKJ8qwsti2f"
      },
      "source": [
        "# note: Class methods can be used as alternative constructors\n",
        "\n",
        "\n",
        "@classmethod\n",
        "def fromstring(cls, value):\n",
        "  return cls(value)\n",
        "\n",
        "\n",
        "###################\n",
        "\n",
        "# calling is very simple\n",
        "\n",
        "new_object_from_class_method = Employee.fromstring('dinesh')"
      ],
      "execution_count": null,
      "outputs": []
    },
    {
      "cell_type": "code",
      "metadata": {
        "id": "_rr_j5ZkuGVo"
      },
      "source": [
        "class Employee:\n",
        "  \n",
        "  number_of_emp = 0\n",
        "  incremented = 1.2\n",
        "  \n",
        "  def __init__(self, name):\n",
        "    self.name = name\n",
        "  \n",
        "  def printName(self):\n",
        "    print('The name is ', self.name)\n",
        "\n",
        "  @classmethod\n",
        "  def setempnumber(cls, value):\n",
        "    cls.number_of_emp = value \n",
        "\n",
        "  @staticmethod\n",
        "  def printStatic(value):\n",
        "    return False"
      ],
      "execution_count": null,
      "outputs": []
    },
    {
      "cell_type": "code",
      "metadata": {
        "colab": {
          "base_uri": "https://localhost:8080/"
        },
        "id": "UDl5V8Ts-RTb",
        "outputId": "12b26adc-f1e9-4173-b54c-28160abf0589"
      },
      "source": [
        "print(Employee.printStatic(25))"
      ],
      "execution_count": null,
      "outputs": [
        {
          "output_type": "stream",
          "text": [
            "False\n"
          ],
          "name": "stdout"
        }
      ]
    },
    {
      "cell_type": "code",
      "metadata": {
        "id": "TYd0FfdDYxkB"
      },
      "source": [
        "# Inheritance "
      ],
      "execution_count": null,
      "outputs": []
    },
    {
      "cell_type": "code",
      "metadata": {
        "id": "CUo2uWVBYzho"
      },
      "source": [
        "class Employee:\n",
        "  def __init__(self, name):\n",
        "    self.name = name\n",
        "  def printName(self):\n",
        "    print('Name is ', self.name)"
      ],
      "execution_count": null,
      "outputs": []
    },
    {
      "cell_type": "code",
      "metadata": {
        "id": "hnibTdXLZT9T"
      },
      "source": [
        "class Developer(Employee):\n",
        "  pass"
      ],
      "execution_count": null,
      "outputs": []
    },
    {
      "cell_type": "code",
      "metadata": {
        "id": "hM_SyNIAZkUs"
      },
      "source": [
        "dev = Developer('dinesh')"
      ],
      "execution_count": null,
      "outputs": []
    },
    {
      "cell_type": "code",
      "metadata": {
        "colab": {
          "base_uri": "https://localhost:8080/"
        },
        "id": "FrTDpzIvZodR",
        "outputId": "219e215c-651c-4803-e4b9-12004965ad71"
      },
      "source": [
        "dev.printName()"
      ],
      "execution_count": null,
      "outputs": [
        {
          "output_type": "stream",
          "text": [
            "Name is  dinesh\n"
          ],
          "name": "stdout"
        }
      ]
    },
    {
      "cell_type": "code",
      "metadata": {
        "id": "dTtFRDhzZsea"
      },
      "source": [
        "# Adding extra argument to developer class\n"
      ],
      "execution_count": null,
      "outputs": []
    },
    {
      "cell_type": "code",
      "metadata": {
        "id": "hZlQTY44bIR4"
      },
      "source": [
        "class Developer(Employee):\n",
        "  def __init__(self, name, lang):\n",
        "    # using super will allow to create only single constructor for parent classes\n",
        "    super().__init__(name)\n",
        "    # Employee.__init__(self, name)\n",
        "    self.lang = lang\n",
        "  "
      ],
      "execution_count": null,
      "outputs": []
    },
    {
      "cell_type": "code",
      "metadata": {
        "id": "mLfmd7tRdfKe"
      },
      "source": [
        "dev = Developer('dinesh', 'python')"
      ],
      "execution_count": null,
      "outputs": []
    },
    {
      "cell_type": "code",
      "metadata": {
        "colab": {
          "base_uri": "https://localhost:8080/",
          "height": 35
        },
        "id": "5g5cRPNAdpNF",
        "outputId": "e6fb8524-b548-410e-87e9-8c4637226606"
      },
      "source": [
        "dev.lang"
      ],
      "execution_count": null,
      "outputs": [
        {
          "output_type": "execute_result",
          "data": {
            "application/vnd.google.colaboratory.intrinsic+json": {
              "type": "string"
            },
            "text/plain": [
              "'python'"
            ]
          },
          "metadata": {
            "tags": []
          },
          "execution_count": 9
        }
      ]
    },
    {
      "cell_type": "code",
      "metadata": {
        "id": "mnKRCWy4d5g_",
        "colab": {
          "base_uri": "https://localhost:8080/"
        },
        "outputId": "0ad86f67-dda6-4f9f-9d50-030a2eedc851"
      },
      "source": [
        "dev.printName()"
      ],
      "execution_count": null,
      "outputs": [
        {
          "output_type": "stream",
          "text": [
            "Name is  dinesh\n"
          ],
          "name": "stdout"
        }
      ]
    },
    {
      "cell_type": "code",
      "metadata": {
        "id": "Hk92YXMdvfjN"
      },
      "source": [
        "# Magic or Dunder function in Python"
      ],
      "execution_count": null,
      "outputs": []
    },
    {
      "cell_type": "code",
      "metadata": {
        "id": "UGVIXuYgvkyx"
      },
      "source": [
        "#Property Decorators"
      ],
      "execution_count": null,
      "outputs": []
    },
    {
      "cell_type": "code",
      "metadata": {
        "id": "rsbJJ0u9suOo"
      },
      "source": [
        "class Employee:\n",
        "  def __init__(self, first, last):\n",
        "    self.first = first\n",
        "    self.last = last\n",
        "    self.email = first + '.' + last + '@gmail.com'\n",
        "  \n",
        "  def fullname(self):\n",
        "    return '{} {}'.format(self.first, self.last)"
      ],
      "execution_count": null,
      "outputs": []
    },
    {
      "cell_type": "code",
      "metadata": {
        "id": "6JSIcbTktMtI"
      },
      "source": [
        "emp = Employee('dinesh', 'buswala')"
      ],
      "execution_count": null,
      "outputs": []
    },
    {
      "cell_type": "code",
      "metadata": {
        "colab": {
          "base_uri": "https://localhost:8080/"
        },
        "id": "-aLjAGOptSzQ",
        "outputId": "ec1c8f5a-b0b2-4e13-87ed-cee8ea627d55"
      },
      "source": [
        "print(emp.first)\n",
        "print(emp.last)\n",
        "print(emp.email)\n",
        "print(emp.fullname())"
      ],
      "execution_count": null,
      "outputs": [
        {
          "output_type": "stream",
          "text": [
            "dinesh\n",
            "buswala\n",
            "dinesh.buswala@gmail.com\n",
            "dinesh buswala\n"
          ],
          "name": "stdout"
        }
      ]
    },
    {
      "cell_type": "code",
      "metadata": {
        "id": "fsNfwHU_tbAM"
      },
      "source": [
        "emp.first = 'Raja'"
      ],
      "execution_count": null,
      "outputs": []
    },
    {
      "cell_type": "code",
      "metadata": {
        "colab": {
          "base_uri": "https://localhost:8080/"
        },
        "id": "2pLPyER8tl3c",
        "outputId": "496fd730-c0f0-4a64-9dad-ca699c18a713"
      },
      "source": [
        "print(emp.first)\n",
        "print(emp.last)\n",
        "print(emp.email)\n",
        "print(emp.fullname())"
      ],
      "execution_count": null,
      "outputs": [
        {
          "output_type": "stream",
          "text": [
            "Raja\n",
            "buswala\n",
            "dinesh.buswala@gmail.com\n",
            "Raja buswala\n"
          ],
          "name": "stdout"
        }
      ]
    },
    {
      "cell_type": "code",
      "metadata": {
        "id": "tvqZXeR_tnBn"
      },
      "source": [
        "# observation: change in email is not reflected"
      ],
      "execution_count": null,
      "outputs": []
    },
    {
      "cell_type": "code",
      "metadata": {
        "id": "qbT6BTBftsUi"
      },
      "source": [
        "class Employee:\n",
        "  \n",
        "  def __init__(self, first, last):\n",
        "    self.first = first\n",
        "    self.last = last\n",
        "  @property\n",
        "  def email(self):\n",
        "    return '{}.{}@gmail.com'.format(self.first, self.last)\n",
        "  @property\n",
        "  def fullname(self):\n",
        "    return '{} {}'.format(self.first, self.last)\n",
        "\n"
      ],
      "execution_count": null,
      "outputs": []
    },
    {
      "cell_type": "code",
      "metadata": {
        "id": "WY8dd1G1vOTv"
      },
      "source": [
        "emp = Employee('dinesh', 'buswala')"
      ],
      "execution_count": null,
      "outputs": []
    },
    {
      "cell_type": "code",
      "metadata": {
        "colab": {
          "base_uri": "https://localhost:8080/"
        },
        "id": "nP4ffYOpvR1C",
        "outputId": "b517d195-d3f6-478a-adea-546c7559ffbe"
      },
      "source": [
        "print(emp.first)\n",
        "print(emp.last)\n",
        "print(emp.email)\n",
        "print(emp.fullname)\n"
      ],
      "execution_count": null,
      "outputs": [
        {
          "output_type": "stream",
          "text": [
            "dinesh\n",
            "buswala\n",
            "dinesh.buswala@gmail.com\n",
            "dinesh buswala\n"
          ],
          "name": "stdout"
        }
      ]
    },
    {
      "cell_type": "code",
      "metadata": {
        "colab": {
          "base_uri": "https://localhost:8080/"
        },
        "id": "iVnuFUDhvVIo",
        "outputId": "18dddb9b-5f01-490d-a774-9cca9e3c60f1"
      },
      "source": [
        "emp.first = 'raja'\n",
        "print(emp.first)\n",
        "print(emp.last)\n",
        "print(emp.email)\n",
        "print(emp.fullname)"
      ],
      "execution_count": null,
      "outputs": [
        {
          "output_type": "stream",
          "text": [
            "raja\n",
            "buswala\n",
            "raja.buswala@gmail.com\n",
            "raja buswala\n"
          ],
          "name": "stdout"
        }
      ]
    },
    {
      "cell_type": "code",
      "metadata": {
        "id": "bH-QBfOLvbH5"
      },
      "source": [
        "# We cannot set the variables using property function for we need the getter and setter"
      ],
      "execution_count": null,
      "outputs": []
    },
    {
      "cell_type": "code",
      "metadata": {
        "colab": {
          "base_uri": "https://localhost:8080/",
          "height": 163
        },
        "id": "OjTsIC64vo1I",
        "outputId": "8ba2e6ac-c95c-43b5-e775-489214a21113"
      },
      "source": [
        "emp.fullname = 'Raja Buswala'"
      ],
      "execution_count": null,
      "outputs": [
        {
          "output_type": "error",
          "ename": "AttributeError",
          "evalue": "ignored",
          "traceback": [
            "\u001b[0;31m---------------------------------------------------------------------------\u001b[0m",
            "\u001b[0;31mAttributeError\u001b[0m                            Traceback (most recent call last)",
            "\u001b[0;32m<ipython-input-18-b8af9f823813>\u001b[0m in \u001b[0;36m<module>\u001b[0;34m()\u001b[0m\n\u001b[0;32m----> 1\u001b[0;31m \u001b[0memp\u001b[0m\u001b[0;34m.\u001b[0m\u001b[0mfullname\u001b[0m \u001b[0;34m=\u001b[0m \u001b[0;34m'Raja Buswala'\u001b[0m\u001b[0;34m\u001b[0m\u001b[0;34m\u001b[0m\u001b[0m\n\u001b[0m",
            "\u001b[0;31mAttributeError\u001b[0m: can't set attribute"
          ]
        }
      ]
    },
    {
      "cell_type": "code",
      "metadata": {
        "id": "-SV0KTG3xT_V"
      },
      "source": [
        "class Employee:\n",
        "  \n",
        "  def __init__(self, first, last):\n",
        "    self.first = first\n",
        "    self.last = last\n",
        "  \n",
        "  @property\n",
        "  def email(self):\n",
        "    return '{}.{}@gmail.com'.format(self.first, self.last)\n",
        "  \n",
        "  @property\n",
        "  def fullname(self):\n",
        "    return '{} {}'.format(self.first, self.last)\n",
        "\n",
        "  @fullname.setter\n",
        "  def fullname(self, name):\n",
        "    f, l = name.split()\n",
        "    self.first = f\n",
        "    self.last = l"
      ],
      "execution_count": null,
      "outputs": []
    },
    {
      "cell_type": "code",
      "metadata": {
        "colab": {
          "base_uri": "https://localhost:8080/"
        },
        "id": "QaWMMx6exqwl",
        "outputId": "2b3e58f8-ebec-43a0-9c2a-8b05be4ccba2"
      },
      "source": [
        "emp = Employee('dinesh', 'buswala')\n",
        "print(emp.first)\n",
        "print(emp.last)\n",
        "print(emp.email)\n",
        "print(emp.fullname)"
      ],
      "execution_count": null,
      "outputs": [
        {
          "output_type": "stream",
          "text": [
            "dinesh\n",
            "buswala\n",
            "dinesh.buswala@gmail.com\n",
            "dinesh buswala\n"
          ],
          "name": "stdout"
        }
      ]
    },
    {
      "cell_type": "code",
      "metadata": {
        "colab": {
          "base_uri": "https://localhost:8080/"
        },
        "id": "jtRd2gxjxwyf",
        "outputId": "13225a20-1fdb-4e28-8a19-14175f03ebe2"
      },
      "source": [
        "emp.fullname = 'raja buswala'\n",
        "print(emp.first)\n",
        "print(emp.last)\n",
        "print(emp.email)\n",
        "print(emp.fullname)"
      ],
      "execution_count": null,
      "outputs": [
        {
          "output_type": "stream",
          "text": [
            "raja\n",
            "buswala\n",
            "raja.buswala@gmail.com\n",
            "raja buswala\n"
          ],
          "name": "stdout"
        }
      ]
    },
    {
      "cell_type": "code",
      "metadata": {
        "id": "-HUSYZPtx5Cf"
      },
      "source": [
        "# deleter\n"
      ],
      "execution_count": null,
      "outputs": []
    },
    {
      "cell_type": "code",
      "metadata": {
        "id": "mHVuvqdZyEkY"
      },
      "source": [
        "class Employee:\n",
        "  \n",
        "  def __init__(self, first, last):\n",
        "    self.first = first\n",
        "    self.last = last\n",
        "  \n",
        "  @property\n",
        "  def email(self):\n",
        "    return '{}.{}@gmail.com'.format(self.first, self.last)\n",
        "  \n",
        "  @property\n",
        "  def fullname(self):\n",
        "    return '{} {}'.format(self.first, self.last)\n",
        "\n",
        "  @fullname.setter\n",
        "  def fullname(self, name):\n",
        "    f, l = name.split()\n",
        "    self.first = f\n",
        "    self.last = l\n",
        "  \n",
        "  @fullname.deleter\n",
        "  def fullname(self):\n",
        "    print('Deleting Object !')\n",
        "    self.first = None\n",
        "    self.last = None"
      ],
      "execution_count": null,
      "outputs": []
    },
    {
      "cell_type": "code",
      "metadata": {
        "colab": {
          "base_uri": "https://localhost:8080/"
        },
        "id": "7ZyDAkpEyVcA",
        "outputId": "6f86523e-deb0-4c09-ca8c-864804e29db9"
      },
      "source": [
        "emp = Employee('dinesh', 'buswala')\n",
        "print(emp.first)\n",
        "print(emp.last)\n",
        "print(emp.email)\n",
        "print(emp.fullname)"
      ],
      "execution_count": null,
      "outputs": [
        {
          "output_type": "stream",
          "text": [
            "dinesh\n",
            "buswala\n",
            "dinesh.buswala@gmail.com\n",
            "dinesh buswala\n"
          ],
          "name": "stdout"
        }
      ]
    },
    {
      "cell_type": "code",
      "metadata": {
        "colab": {
          "base_uri": "https://localhost:8080/"
        },
        "id": "lLQjpiJ_yZKu",
        "outputId": "d6dd5a71-ea63-4650-8139-8e3270466dc7"
      },
      "source": [
        "del emp.fullname"
      ],
      "execution_count": null,
      "outputs": [
        {
          "output_type": "stream",
          "text": [
            "Deleting Object !\n"
          ],
          "name": "stdout"
        }
      ]
    },
    {
      "cell_type": "code",
      "metadata": {
        "id": "LwQjOvGPyjaB",
        "colab": {
          "base_uri": "https://localhost:8080/"
        },
        "outputId": "030d9c4c-fbb9-4245-b594-ef79ba9eea10"
      },
      "source": [
        "print(emp.first)\n",
        "print(emp.last)\n",
        "print(emp.email)\n",
        "print(emp.fullname)"
      ],
      "execution_count": null,
      "outputs": [
        {
          "output_type": "stream",
          "text": [
            "None\n",
            "None\n",
            "None.None@gmail.com\n",
            "None None\n"
          ],
          "name": "stdout"
        }
      ]
    }
  ]
}