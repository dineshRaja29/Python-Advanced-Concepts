{
  "nbformat": 4,
  "nbformat_minor": 0,
  "metadata": {
    "colab": {
      "name": "DatasetClass.ipynb",
      "provenance": [],
      "authorship_tag": "ABX9TyNLDLEZiu/I/Zvba4mDaYrv",
      "include_colab_link": true
    },
    "kernelspec": {
      "name": "python3",
      "display_name": "Python 3"
    },
    "language_info": {
      "name": "python"
    }
  },
  "cells": [
    {
      "cell_type": "markdown",
      "metadata": {
        "id": "view-in-github",
        "colab_type": "text"
      },
      "source": [
        "<a href=\"https://colab.research.google.com/github/dineshRaja29/Python-Advanced-Concepts/blob/main/DatasetClass.ipynb\" target=\"_parent\"><img src=\"https://colab.research.google.com/assets/colab-badge.svg\" alt=\"Open In Colab\"/></a>"
      ]
    },
    {
      "cell_type": "code",
      "metadata": {
        "id": "-N6ssgkknlf1"
      },
      "source": [
        "#Shri Radhey  "
      ],
      "execution_count": null,
      "outputs": []
    },
    {
      "cell_type": "code",
      "metadata": {
        "id": "qgnJb27wnwff"
      },
      "source": [
        "# General syntax class CustomDataset(torch.utils.data.Dataset)"
      ],
      "execution_count": null,
      "outputs": []
    },
    {
      "cell_type": "code",
      "metadata": {
        "id": "g_Z28yJip35c"
      },
      "source": [
        "from sklearn.datasets import make_classification\n",
        "import torch"
      ],
      "execution_count": null,
      "outputs": []
    },
    {
      "cell_type": "code",
      "metadata": {
        "id": "Qhr3-II1ns3-"
      },
      "source": [
        "class CustomData:\n",
        "  \n",
        "  def __init__(self, data, targets):\n",
        "    self.data = data\n",
        "    self.targets = targets\n",
        "  \n",
        "  def __len__(self):\n",
        "    # return len(data)\n",
        "    # or\n",
        "    return data.shape[0]\n",
        "\n",
        "  def __getitem__(self, idx):\n",
        "    current_sample = self.data[idx, :]\n",
        "    current_target = self.targets[idx]\n",
        "    return {\n",
        "            \"sample\": torch.tensor(current_sample, dtype = torch.float),\n",
        "            \"target\": torch.tensor(current_target, dtype = torch.long)\n",
        "            }\n",
        " \n",
        "\n"
      ],
      "execution_count": null,
      "outputs": []
    },
    {
      "cell_type": "code",
      "metadata": {
        "id": "YMgcP6zAntAT"
      },
      "source": [
        "?make_classification"
      ],
      "execution_count": null,
      "outputs": []
    },
    {
      "cell_type": "code",
      "metadata": {
        "id": "5yTNftsBntF0"
      },
      "source": [
        "data, targets = make_classification(n_samples=1000)"
      ],
      "execution_count": null,
      "outputs": []
    },
    {
      "cell_type": "code",
      "metadata": {
        "colab": {
          "base_uri": "https://localhost:8080/"
        },
        "id": "JdJAfTOtq8Hg",
        "outputId": "6bd0c296-79cf-4591-f6b1-91f58e1f54c5"
      },
      "source": [
        "print(data.shape)\n",
        "print(targets.shape)"
      ],
      "execution_count": null,
      "outputs": [
        {
          "output_type": "stream",
          "text": [
            "(1000, 20)\n",
            "(1000,)\n"
          ],
          "name": "stdout"
        }
      ]
    },
    {
      "cell_type": "code",
      "metadata": {
        "colab": {
          "base_uri": "https://localhost:8080/"
        },
        "id": "FGkxJYTkrJCi",
        "outputId": "2ea19cc1-2a85-41eb-b881-16e8aec1ab70"
      },
      "source": [
        "targets[:10]"
      ],
      "execution_count": null,
      "outputs": [
        {
          "output_type": "execute_result",
          "data": {
            "text/plain": [
              "array([0, 1, 0, 0, 0, 1, 0, 1, 0, 1])"
            ]
          },
          "metadata": {
            "tags": []
          },
          "execution_count": 73
        }
      ]
    },
    {
      "cell_type": "code",
      "metadata": {
        "id": "SMuJYtWbrPsx"
      },
      "source": [
        "custom_dataset = CustomData(data, targets)"
      ],
      "execution_count": null,
      "outputs": []
    },
    {
      "cell_type": "code",
      "metadata": {
        "colab": {
          "base_uri": "https://localhost:8080/"
        },
        "id": "_A-agcygr18b",
        "outputId": "69d5e009-9146-4b09-f76e-b493ccd66cec"
      },
      "source": [
        "custom_dataset"
      ],
      "execution_count": null,
      "outputs": [
        {
          "output_type": "execute_result",
          "data": {
            "text/plain": [
              "<__main__.CustomData at 0x7f6da338c350>"
            ]
          },
          "metadata": {
            "tags": []
          },
          "execution_count": 75
        }
      ]
    },
    {
      "cell_type": "code",
      "metadata": {
        "colab": {
          "base_uri": "https://localhost:8080/"
        },
        "id": "qkYcNAkNui6w",
        "outputId": "70b45350-87bb-42d9-c54d-555cba445ef9"
      },
      "source": [
        "dir(custom_dataset)"
      ],
      "execution_count": null,
      "outputs": [
        {
          "output_type": "execute_result",
          "data": {
            "text/plain": [
              "['__class__',\n",
              " '__delattr__',\n",
              " '__dict__',\n",
              " '__dir__',\n",
              " '__doc__',\n",
              " '__eq__',\n",
              " '__format__',\n",
              " '__ge__',\n",
              " '__getattribute__',\n",
              " '__getitem__',\n",
              " '__gt__',\n",
              " '__hash__',\n",
              " '__init__',\n",
              " '__init_subclass__',\n",
              " '__le__',\n",
              " '__len__',\n",
              " '__lt__',\n",
              " '__module__',\n",
              " '__ne__',\n",
              " '__new__',\n",
              " '__reduce__',\n",
              " '__reduce_ex__',\n",
              " '__repr__',\n",
              " '__setattr__',\n",
              " '__sizeof__',\n",
              " '__str__',\n",
              " '__subclasshook__',\n",
              " '__weakref__',\n",
              " 'data',\n",
              " 'targets']"
            ]
          },
          "metadata": {
            "tags": []
          },
          "execution_count": 76
        }
      ]
    },
    {
      "cell_type": "code",
      "metadata": {
        "colab": {
          "base_uri": "https://localhost:8080/"
        },
        "id": "f673EzUar4fv",
        "outputId": "41421096-3184-49e4-86ef-14d9b2559160"
      },
      "source": [
        "len(custom_dataset)"
      ],
      "execution_count": null,
      "outputs": [
        {
          "output_type": "execute_result",
          "data": {
            "text/plain": [
              "1000"
            ]
          },
          "metadata": {
            "tags": []
          },
          "execution_count": 77
        }
      ]
    },
    {
      "cell_type": "code",
      "metadata": {
        "colab": {
          "base_uri": "https://localhost:8080/"
        },
        "id": "RIorDQHXr89v",
        "outputId": "8e857657-7229-452e-fd64-18fcef6fbf81"
      },
      "source": [
        "custom_dataset[0]"
      ],
      "execution_count": null,
      "outputs": [
        {
          "output_type": "execute_result",
          "data": {
            "text/plain": [
              "{'sample': tensor([-0.4443, -0.1866, -1.6002,  0.0569, -0.4584,  0.0410,  0.7643,  0.9219,\n",
              "          1.1823,  0.0074, -1.3756, -0.0696,  0.5515,  1.3412, -0.4947,  2.0782,\n",
              "          0.6596,  0.8875, -2.5650, -0.6278]), 'target': tensor(0)}"
            ]
          },
          "metadata": {
            "tags": []
          },
          "execution_count": 78
        }
      ]
    },
    {
      "cell_type": "code",
      "metadata": {
        "colab": {
          "base_uri": "https://localhost:8080/"
        },
        "id": "ymKpOmzz3Jj7",
        "outputId": "7da6ff82-837e-4de8-86c7-122acd9137c5"
      },
      "source": [
        "for idx  in range(len(custom_dataset)):\n",
        "  print(custom_dataset[0])\n",
        "  break"
      ],
      "execution_count": null,
      "outputs": [
        {
          "output_type": "stream",
          "text": [
            "{'sample': tensor([-0.4443, -0.1866, -1.6002,  0.0569, -0.4584,  0.0410,  0.7643,  0.9219,\n",
            "         1.1823,  0.0074, -1.3756, -0.0696,  0.5515,  1.3412, -0.4947,  2.0782,\n",
            "         0.6596,  0.8875, -2.5650, -0.6278]), 'target': tensor(0)}\n"
          ],
          "name": "stdout"
        }
      ]
    }
  ]
}